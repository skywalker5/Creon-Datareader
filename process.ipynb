{
 "cells": [
  {
   "cell_type": "code",
   "execution_count": 2,
   "metadata": {},
   "outputs": [],
   "source": [
    "import sqlite3\n",
    "import pandas as pd"
   ]
  },
  {
   "cell_type": "code",
   "execution_count": 51,
   "metadata": {},
   "outputs": [],
   "source": [
    "db_file = 'db/stock_price(1d)_0_4000.db'\n",
    "conn = sqlite3.connect(db_file)\n",
    "c2 = conn.cursor()\n",
    "c2.execute(\"select name from sqlite_master where type='table';\")\n",
    "a=c2.fetchall()\n",
    "tables = [aa[0] for aa in a]"
   ]
  },
  {
   "cell_type": "code",
   "execution_count": 52,
   "metadata": {},
   "outputs": [],
   "source": [
    "def convInt(i):\n",
    "    year = i//10000\n",
    "    m = (i - 10000*year)//100\n",
    "    d = (i - 10000*year - 100*m)\n",
    "    return \"%02d/%02d/%04d\"%(m,d,year)"
   ]
  },
  {
   "cell_type": "code",
   "execution_count": 54,
   "metadata": {},
   "outputs": [],
   "source": [
    "for table in tables:\n",
    "    f = pd.read_sql_query('select logDate, priceOpen, priceHigh, priceLow, priceClose, volume from {} where logDate<20200810'.format(table),conn) \n",
    "    f.insert(1,'Time',0)\n",
    "    f.insert(7,'OI',0)\n",
    "    f=f.rename(columns={\"logDate\":\"Date\",\"priceOpen\":\"Open\",\"priceHigh\":\"High\",\n",
    "                  \"priceLow\":\"Low\",\"priceClose\":\"Close\", 'volume':'Vol'})\n",
    "    f['Date']=f['Date'].apply(convInt)\n",
    "    f.to_csv('db/{}.csv'.format(table),index=False)"
   ]
  },
  {
   "cell_type": "code",
   "execution_count": null,
   "metadata": {},
   "outputs": [],
   "source": []
  }
 ],
 "metadata": {
  "kernelspec": {
   "display_name": "Python 3",
   "language": "python",
   "name": "python3"
  },
  "language_info": {
   "codemirror_mode": {
    "name": "ipython",
    "version": 3
   },
   "file_extension": ".py",
   "mimetype": "text/x-python",
   "name": "python",
   "nbconvert_exporter": "python",
   "pygments_lexer": "ipython3",
   "version": "3.7.6"
  }
 },
 "nbformat": 4,
 "nbformat_minor": 4
}
